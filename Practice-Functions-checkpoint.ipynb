{
 "cells": [
  {
   "cell_type": "markdown",
   "id": "7945b663-0095-4b5a-be0a-705045176970",
   "metadata": {},
   "source": [
    "# FUNCTIONS"
   ]
  },
  {
   "cell_type": "markdown",
   "id": "e09c98fd-efca-4eb9-a322-2400b1cbf6b4",
   "metadata": {},
   "source": [
    "# Round Functions"
   ]
  },
  {
   "cell_type": "code",
   "execution_count": 1,
   "id": "5f357234-7885-4c65-a3ee-1bcd19b001ac",
   "metadata": {},
   "outputs": [
    {
     "name": "stdout",
     "output_type": "stream",
     "text": [
      "5\n"
     ]
    }
   ],
   "source": [
    "print(round(4.5589933))"
   ]
  },
  {
   "cell_type": "code",
   "execution_count": 2,
   "id": "852c0814-fccc-4f3a-ac52-8c289cc816ed",
   "metadata": {},
   "outputs": [
    {
     "name": "stdout",
     "output_type": "stream",
     "text": [
      "4\n"
     ]
    }
   ],
   "source": [
    "print(round(4.3245))"
   ]
  },
  {
   "cell_type": "code",
   "execution_count": 3,
   "id": "c787dfbe-5594-48ee-a0a5-ee952a61faa1",
   "metadata": {},
   "outputs": [
    {
     "name": "stdout",
     "output_type": "stream",
     "text": [
      "4.557\n"
     ]
    }
   ],
   "source": [
    "print(round(4.5567932, 3))"
   ]
  },
  {
   "cell_type": "markdown",
   "id": "b4b40049-1428-4e44-92ef-11ac1ca7322f",
   "metadata": {},
   "source": [
    "# Divmod Functions-> This function gives Quotient and Remainder"
   ]
  },
  {
   "cell_type": "code",
   "execution_count": 4,
   "id": "87e5a13a-9871-41b5-96de-bf9972a5e088",
   "metadata": {},
   "outputs": [
    {
     "data": {
      "text/plain": [
       "(2, 2)"
      ]
     },
     "execution_count": 4,
     "metadata": {},
     "output_type": "execute_result"
    }
   ],
   "source": [
    "divmod(22,10)"
   ]
  },
  {
   "cell_type": "code",
   "execution_count": 6,
   "id": "78ba4280-0472-4346-a7b8-c9c098f9bb81",
   "metadata": {},
   "outputs": [],
   "source": [
    "G = divmod(34, 9)"
   ]
  },
  {
   "cell_type": "code",
   "execution_count": 7,
   "id": "268c1860-c3e9-43c9-a43d-19a77ca9ec14",
   "metadata": {},
   "outputs": [
    {
     "data": {
      "text/plain": [
       "tuple"
      ]
     },
     "execution_count": 7,
     "metadata": {},
     "output_type": "execute_result"
    }
   ],
   "source": [
    "type(G)"
   ]
  },
  {
   "cell_type": "code",
   "execution_count": 8,
   "id": "beba5823-5d7a-4205-892d-66825b78d77c",
   "metadata": {},
   "outputs": [
    {
     "name": "stdout",
     "output_type": "stream",
     "text": [
      "(3, 7)\n"
     ]
    }
   ],
   "source": [
    "print(G)"
   ]
  },
  {
   "cell_type": "code",
   "execution_count": 11,
   "id": "e24caadc-d73d-4d07-8442-129799208b8f",
   "metadata": {},
   "outputs": [
    {
     "data": {
      "text/plain": [
       "3"
      ]
     },
     "execution_count": 11,
     "metadata": {},
     "output_type": "execute_result"
    }
   ],
   "source": [
    "G[0] #this shows the index of above collection"
   ]
  },
  {
   "cell_type": "code",
   "execution_count": 10,
   "id": "09adb51e-ef5b-40bf-b45f-8fc8cd301fb7",
   "metadata": {},
   "outputs": [
    {
     "data": {
      "text/plain": [
       "7"
      ]
     },
     "execution_count": 10,
     "metadata": {},
     "output_type": "execute_result"
    }
   ],
   "source": [
    "G[1]"
   ]
  },
  {
   "cell_type": "code",
   "execution_count": 12,
   "id": "3dc79c62-2075-4f38-bb79-a08ecb7633fc",
   "metadata": {},
   "outputs": [
    {
     "data": {
      "text/plain": [
       "3"
      ]
     },
     "execution_count": 12,
     "metadata": {},
     "output_type": "execute_result"
    }
   ],
   "source": [
    "34//9 # other way of returning the Quotient"
   ]
  },
  {
   "cell_type": "code",
   "execution_count": 13,
   "id": "15d405fa-5417-42fc-b536-8e9e5d7c61a3",
   "metadata": {},
   "outputs": [
    {
     "data": {
      "text/plain": [
       "7"
      ]
     },
     "execution_count": 13,
     "metadata": {},
     "output_type": "execute_result"
    }
   ],
   "source": [
    "34%9 # other way of returning the Remainder"
   ]
  },
  {
   "cell_type": "markdown",
   "id": "0bd89f31-f65a-45af-a7fd-2f444b2aea68",
   "metadata": {},
   "source": [
    "# ISINSTANCE FUNCTION"
   ]
  },
  {
   "cell_type": "code",
   "execution_count": 14,
   "id": "a2560711-9613-4af6-82b5-eb449a1317d4",
   "metadata": {},
   "outputs": [
    {
     "data": {
      "text/plain": [
       "True"
      ]
     },
     "execution_count": 14,
     "metadata": {},
     "output_type": "execute_result"
    }
   ],
   "source": [
    "isinstance(2+3j, (int,float,complex))         # This function returns the True or False if the value is in the class"
   ]
  },
  {
   "cell_type": "code",
   "execution_count": 15,
   "id": "bb84fdd1-1294-4508-a13c-a68d79f74584",
   "metadata": {},
   "outputs": [
    {
     "data": {
      "text/plain": [
       "False"
      ]
     },
     "execution_count": 15,
     "metadata": {},
     "output_type": "execute_result"
    }
   ],
   "source": [
    "isinstance(2+3j, (int,float))  # This is a complex number so it returns False"
   ]
  },
  {
   "cell_type": "markdown",
   "id": "0781a267-386d-49a0-9e05-79372b1a9323",
   "metadata": {},
   "source": [
    "# POWER Function"
   ]
  },
  {
   "cell_type": "code",
   "execution_count": 16,
   "id": "8e89dee6-8d01-4d9a-b7c7-a3a4d86dcd95",
   "metadata": {},
   "outputs": [
    {
     "data": {
      "text/plain": [
       "2"
      ]
     },
     "execution_count": 16,
     "metadata": {},
     "output_type": "execute_result"
    }
   ],
   "source": [
    "pow(2,4,7)    # This function takes 3 Variables in a way, x Raise to the Power y and Remainder by z. x**y%"
   ]
  },
  {
   "cell_type": "code",
   "execution_count": 17,
   "id": "9e90f923-4985-4b8b-933b-660296f75e57",
   "metadata": {},
   "outputs": [
    {
     "data": {
      "text/plain": [
       "16"
      ]
     },
     "execution_count": 17,
     "metadata": {},
     "output_type": "execute_result"
    }
   ],
   "source": [
    "pow(2,4)"
   ]
  },
  {
   "cell_type": "code",
   "execution_count": 18,
   "id": "1ad84123-3fd8-4fb0-bfc5-636658559570",
   "metadata": {},
   "outputs": [
    {
     "data": {
      "text/plain": [
       "16"
      ]
     },
     "execution_count": 18,
     "metadata": {},
     "output_type": "execute_result"
    }
   ],
   "source": [
    "2**4"
   ]
  },
  {
   "cell_type": "markdown",
   "id": "0254aa69-56a7-4ffb-9977-a3c7a9423fec",
   "metadata": {},
   "source": [
    "# INPUT Function"
   ]
  },
  {
   "cell_type": "code",
   "execution_count": 19,
   "id": "5bd76fc2-26da-4af2-a291-aac0f0a8997b",
   "metadata": {},
   "outputs": [
    {
     "name": "stdin",
     "output_type": "stream",
     "text": [
      "Enter a Number : 56\n"
     ]
    }
   ],
   "source": [
    "x = input(\"Enter a Number :\")   # This Functions lets the user to get the value from Keyboard"
   ]
  },
  {
   "cell_type": "code",
   "execution_count": 20,
   "id": "69d99767-c5f9-4871-998c-e4972407d9db",
   "metadata": {},
   "outputs": [
    {
     "data": {
      "text/plain": [
       "str"
      ]
     },
     "execution_count": 20,
     "metadata": {},
     "output_type": "execute_result"
    }
   ],
   "source": [
    "type(x)"
   ]
  },
  {
   "cell_type": "code",
   "execution_count": 21,
   "id": "e659045b-d580-4082-9cea-e45630613232",
   "metadata": {},
   "outputs": [],
   "source": [
    "x = int(x)"
   ]
  },
  {
   "cell_type": "code",
   "execution_count": 22,
   "id": "ee11b699-c6d5-4881-b7bf-6f90f30dfdfb",
   "metadata": {},
   "outputs": [
    {
     "data": {
      "text/plain": [
       "int"
      ]
     },
     "execution_count": 22,
     "metadata": {},
     "output_type": "execute_result"
    }
   ],
   "source": [
    "type(x)"
   ]
  },
  {
   "cell_type": "code",
   "execution_count": 23,
   "id": "1547271d-c676-41f6-ae19-5baa40a4c95b",
   "metadata": {},
   "outputs": [
    {
     "name": "stdout",
     "output_type": "stream",
     "text": [
      "22\n"
     ]
    }
   ],
   "source": [
    "print(x-34)"
   ]
  },
  {
   "cell_type": "code",
   "execution_count": 24,
   "id": "a41463aa-ef2a-410a-9668-5ea78266c74c",
   "metadata": {},
   "outputs": [
    {
     "name": "stdin",
     "output_type": "stream",
     "text": [
      "Enter a Real Number :  55.2\n"
     ]
    }
   ],
   "source": [
    "a = float(input(\"Enter a Real Number : \"))"
   ]
  },
  {
   "cell_type": "code",
   "execution_count": 25,
   "id": "a461709c-eddc-4a97-81f2-c50b12de4be6",
   "metadata": {},
   "outputs": [
    {
     "data": {
      "text/plain": [
       "float"
      ]
     },
     "execution_count": 25,
     "metadata": {},
     "output_type": "execute_result"
    }
   ],
   "source": [
    "type(a)"
   ]
  },
  {
   "cell_type": "code",
   "execution_count": 26,
   "id": "8246f5c9-e352-483b-bdd2-59ae158a843d",
   "metadata": {},
   "outputs": [
    {
     "name": "stdin",
     "output_type": "stream",
     "text": [
      "Enter a Real Number :  abc\n"
     ]
    },
    {
     "ename": "ValueError",
     "evalue": "could not convert string to float: 'abc'",
     "output_type": "error",
     "traceback": [
      "\u001b[1;31m---------------------------------------------------------------------------\u001b[0m",
      "\u001b[1;31mValueError\u001b[0m                                Traceback (most recent call last)",
      "Cell \u001b[1;32mIn[26], line 1\u001b[0m\n\u001b[1;32m----> 1\u001b[0m b \u001b[38;5;241m=\u001b[39m \u001b[38;5;28mfloat\u001b[39m(\u001b[38;5;28minput\u001b[39m(\u001b[38;5;124m\"\u001b[39m\u001b[38;5;124mEnter a Real Number : \u001b[39m\u001b[38;5;124m\"\u001b[39m))\n",
      "\u001b[1;31mValueError\u001b[0m: could not convert string to float: 'abc'"
     ]
    }
   ],
   "source": [
    "b = float(input(\"Enter a Real Number : \"))  # abc is not a float because this is not a string"
   ]
  },
  {
   "cell_type": "code",
   "execution_count": 27,
   "id": "2be33fa1-3250-4f92-a5de-4b8a5dea1767",
   "metadata": {},
   "outputs": [
    {
     "name": "stdin",
     "output_type": "stream",
     "text": [
      "Enter a Real Number :  abc\n"
     ]
    }
   ],
   "source": [
    "a = input(\"Enter a Real Number : \") #now this is correct because this fuction is not described as float. It is a String"
   ]
  },
  {
   "cell_type": "code",
   "execution_count": 28,
   "id": "28bb5afe-21f3-4670-8d9c-867ca2ac01fe",
   "metadata": {},
   "outputs": [
    {
     "data": {
      "text/plain": [
       "str"
      ]
     },
     "execution_count": 28,
     "metadata": {},
     "output_type": "execute_result"
    }
   ],
   "source": [
    "type(a)"
   ]
  },
  {
   "cell_type": "code",
   "execution_count": 30,
   "id": "7e3dec2f-1239-432f-bf76-fda790dab9bf",
   "metadata": {},
   "outputs": [
    {
     "name": "stdout",
     "output_type": "stream",
     "text": [
      "<class 'str'>\n",
      "abc\n"
     ]
    }
   ],
   "source": [
    "print(type(a))\n",
    "print(a)"
   ]
  },
  {
   "cell_type": "code",
   "execution_count": 32,
   "id": "5abbe985-2f01-4854-be90-505747cb5d90",
   "metadata": {},
   "outputs": [
    {
     "name": "stdout",
     "output_type": "stream",
     "text": [
      "Help on built-in function pow in module builtins:\n",
      "\n",
      "pow(base, exp, mod=None)\n",
      "    Equivalent to base**exp with 2 arguments or base**exp % mod with 3 arguments\n",
      "\n",
      "    Some types, such as ints, are able to use a more efficient algorithm when\n",
      "    invoked using the three argument form.\n",
      "\n"
     ]
    }
   ],
   "source": [
    "help (pow)"
   ]
  },
  {
   "cell_type": "code",
   "execution_count": 33,
   "id": "56c7333d-ef4d-4091-aa80-32dd155a38ab",
   "metadata": {},
   "outputs": [
    {
     "name": "stdout",
     "output_type": "stream",
     "text": [
      "Help on method raw_input in module ipykernel.kernelbase:\n",
      "\n",
      "raw_input(prompt='') method of ipykernel.ipkernel.IPythonKernel instance\n",
      "    Forward raw_input to frontends\n",
      "\n",
      "    Raises\n",
      "    ------\n",
      "    StdinNotImplementedError if active frontend doesn't support stdin.\n",
      "\n"
     ]
    }
   ],
   "source": [
    "help(input)"
   ]
  },
  {
   "cell_type": "code",
   "execution_count": null,
   "id": "cc54d7cf-8c0f-4054-a049-174636301f91",
   "metadata": {},
   "outputs": [],
   "source": []
  }
 ],
 "metadata": {
  "kernelspec": {
   "display_name": "Python 3 (ipykernel)",
   "language": "python",
   "name": "python3"
  },
  "language_info": {
   "codemirror_mode": {
    "name": "ipython",
    "version": 3
   },
   "file_extension": ".py",
   "mimetype": "text/x-python",
   "name": "python",
   "nbconvert_exporter": "python",
   "pygments_lexer": "ipython3",
   "version": "3.13.5"
  }
 },
 "nbformat": 4,
 "nbformat_minor": 5
}
