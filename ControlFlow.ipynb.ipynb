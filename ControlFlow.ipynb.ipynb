{
 "cells": [
  {
   "cell_type": "markdown",
   "id": "f9a4f85c-100f-4b6d-a3d1-61a2b5540915",
   "metadata": {},
   "source": [
    "# CONTROL FLOW"
   ]
  },
  {
   "cell_type": "markdown",
   "id": "f2029bcb-2e67-4898-bb2a-8fed3379a41e",
   "metadata": {},
   "source": [
    "# IF Condition"
   ]
  },
  {
   "cell_type": "code",
   "execution_count": 2,
   "id": "3446b8d2-eed3-4d53-a097-445cce87e5fb",
   "metadata": {},
   "outputs": [
    {
     "name": "stdin",
     "output_type": "stream",
     "text": [
      " 12\n",
      " 11\n"
     ]
    },
    {
     "name": "stdout",
     "output_type": "stream",
     "text": [
      "12\n",
      "I am inside if condition\n",
      "I am outside if condition\n"
     ]
    }
   ],
   "source": [
    "a = int(input())\n",
    "b = int(input())\n",
    "if a>b:\n",
    "    print(a)\n",
    "    print(\"I am inside if condition\")\n",
    "print(\"I am outside if condition\")"
   ]
  },
  {
   "cell_type": "code",
   "execution_count": 60,
   "id": "3c9d9f94-505a-4ff6-9017-e56df6f17081",
   "metadata": {},
   "outputs": [
    {
     "name": "stdin",
     "output_type": "stream",
     "text": [
      " 12\n",
      " 23\n"
     ]
    },
    {
     "name": "stdout",
     "output_type": "stream",
     "text": [
      "23\n"
     ]
    }
   ],
   "source": [
    "a = int(input())\n",
    "b = int(input())\n",
    "if a>b:\n",
    "    print(a)\n",
    "if b>a:\n",
    "    print(b)"
   ]
  },
  {
   "cell_type": "markdown",
   "id": "4d450e91-6d4e-4207-aa9b-4b7bde947fdc",
   "metadata": {},
   "source": [
    "# IF & ELSE Conditions"
   ]
  },
  {
   "cell_type": "code",
   "execution_count": 9,
   "id": "4eee76eb-6ac1-47d7-ad63-7b4df1515f88",
   "metadata": {},
   "outputs": [
    {
     "name": "stdin",
     "output_type": "stream",
     "text": [
      " 10\n",
      " 35\n"
     ]
    },
    {
     "name": "stdout",
     "output_type": "stream",
     "text": [
      "b is greater than a\n"
     ]
    }
   ],
   "source": [
    "a = int(input())\n",
    "b = int(input())\n",
    "if b>a:\n",
    "    print(\"b is greater than a\")\n",
    "if a>b:\n",
    "    print(\"b is not greater than a\")"
   ]
  },
  {
   "cell_type": "code",
   "execution_count": 10,
   "id": "31156edf-4ff8-4cfb-8b35-012f90a0515a",
   "metadata": {},
   "outputs": [
    {
     "name": "stdin",
     "output_type": "stream",
     "text": [
      " 25\n",
      " 15\n"
     ]
    },
    {
     "name": "stdout",
     "output_type": "stream",
     "text": [
      "b is not greater than a\n"
     ]
    }
   ],
   "source": [
    "a = int(input())\n",
    "b = int(input())\n",
    "if b>a:\n",
    "    print(\"b is greater than a\")\n",
    "else:\n",
    "    print(\"b is not greater than a\")"
   ]
  },
  {
   "cell_type": "code",
   "execution_count": 12,
   "id": "69ff0a6f-e919-48ef-b94e-15bd4383f6ac",
   "metadata": {},
   "outputs": [
    {
     "name": "stdin",
     "output_type": "stream",
     "text": [
      " 10\n",
      " 25\n"
     ]
    },
    {
     "name": "stdout",
     "output_type": "stream",
     "text": [
      "25\n"
     ]
    }
   ],
   "source": [
    "a = int(input())\n",
    "b = int(input())\n",
    "if b>a:\n",
    "    print(b)\n",
    "if a>b:\n",
    "    print(a)"
   ]
  },
  {
   "cell_type": "code",
   "execution_count": 14,
   "id": "f2f27156-55c7-4bd2-8d65-fe935c09dc55",
   "metadata": {},
   "outputs": [
    {
     "name": "stdin",
     "output_type": "stream",
     "text": [
      " 10\n",
      " 8\n"
     ]
    },
    {
     "name": "stdout",
     "output_type": "stream",
     "text": [
      "10\n"
     ]
    }
   ],
   "source": [
    "a = int(input())\n",
    "b = int(input())\n",
    "if b>a:\n",
    "    print(b)\n",
    "else:\n",
    "    print(a)"
   ]
  },
  {
   "cell_type": "code",
   "execution_count": 17,
   "id": "474f3ae0-4cfd-4ad1-b10f-899f41bf35c5",
   "metadata": {},
   "outputs": [
    {
     "name": "stdin",
     "output_type": "stream",
     "text": [
      " 25\n",
      " 20\n"
     ]
    },
    {
     "name": "stdout",
     "output_type": "stream",
     "text": [
      "25\n",
      "else part\n"
     ]
    }
   ],
   "source": [
    "a = int(input())\n",
    "b = int(input())\n",
    "if b>a:\n",
    "    print(b)\n",
    "    print(\"if part\")\n",
    "else:\n",
    "    print(a)\n",
    "    print(\"else part\")"
   ]
  },
  {
   "cell_type": "code",
   "execution_count": 54,
   "id": "57824cff-10ff-4bce-9c63-0de98caa0b25",
   "metadata": {},
   "outputs": [
    {
     "name": "stdin",
     "output_type": "stream",
     "text": [
      "Enter Your number: 10\n",
      "Enter Your Number: 12\n"
     ]
    },
    {
     "name": "stdout",
     "output_type": "stream",
     "text": [
      "b\n",
      "else part, b is greater than a\n"
     ]
    }
   ],
   "source": [
    "a = int(input(\"Enter Your number:\"))\n",
    "b = int(input(\"Enter Your Number:\"))\n",
    "if a>b:\n",
    "    print(\"a\")\n",
    "    print(\"if part, a is greater than b\")\n",
    "else:\n",
    "    print(\"b\")\n",
    "    print(\"else part, b is greater than a\")"
   ]
  },
  {
   "cell_type": "markdown",
   "id": "1e09259e-146a-45ac-96e6-c4e7357551d4",
   "metadata": {},
   "source": [
    "# IF-ELIF-ELSE"
   ]
  },
  {
   "cell_type": "code",
   "execution_count": 20,
   "id": "26f38081-5c68-43fd-8ad1-5a936dd6a3df",
   "metadata": {},
   "outputs": [
    {
     "name": "stdout",
     "output_type": "stream",
     "text": [
      "B\n",
      "not in if\n"
     ]
    }
   ],
   "source": [
    "a = 5     # a is not greater than b\n",
    "b = 10\n",
    "if a==b:\n",
    "    print(\"Equal\")\n",
    "elif a>b:\n",
    "    print(\"A\")\n",
    "else:\n",
    "    print(\"B\")\n",
    "print(\"not in if\")"
   ]
  },
  {
   "cell_type": "code",
   "execution_count": 21,
   "id": "dd6cba13-5311-48ca-a31a-f1339092008c",
   "metadata": {},
   "outputs": [
    {
     "name": "stdout",
     "output_type": "stream",
     "text": [
      "A\n",
      "not in if\n"
     ]
    }
   ],
   "source": [
    "a = 50     #  a is greater than b\n",
    "b = 10\n",
    "if a==b:\n",
    "    print(\"Equal\")\n",
    "elif a>b:\n",
    "    print(\"A\")\n",
    "else:\n",
    "    print(\"B\")\n",
    "print(\"not in if\")"
   ]
  },
  {
   "cell_type": "code",
   "execution_count": 22,
   "id": "ff4eeb08-b1da-4854-a93c-a9df62281d89",
   "metadata": {},
   "outputs": [
    {
     "name": "stdout",
     "output_type": "stream",
     "text": [
      "Equal\n",
      "not in if\n"
     ]
    }
   ],
   "source": [
    "a = 5      #  a is equal to b\n",
    "b = 5\n",
    "if a==b:\n",
    "    print(\"Equal\")\n",
    "elif a>b:\n",
    "    print(\"A\")\n",
    "else:\n",
    "    print(\"B\")\n",
    "print(\"not in if\")"
   ]
  },
  {
   "cell_type": "code",
   "execution_count": 28,
   "id": "d629ad5e-e1a2-4998-bb7f-d306c4bd9dfd",
   "metadata": {},
   "outputs": [
    {
     "name": "stdin",
     "output_type": "stream",
     "text": [
      "Enter First Number 63.22\n",
      "Enter Second Number 95.31254\n"
     ]
    },
    {
     "name": "stdout",
     "output_type": "stream",
     "text": [
      "b is greater than a\n"
     ]
    }
   ],
   "source": [
    "a = float(input(\"Enter First Number\"))\n",
    "b = float(input(\"Enter Second Number\"))\n",
    "if b>a:\n",
    "    print(\"b is greater than a\")\n",
    "elif a==b:\n",
    "    print(\"a is equal to b\")\n",
    "else:\n",
    "    print(\"a is greater than b\")"
   ]
  },
  {
   "cell_type": "code",
   "execution_count": 27,
   "id": "3d246ca7-0838-4c37-80ae-9c74792f5b88",
   "metadata": {},
   "outputs": [
    {
     "name": "stdin",
     "output_type": "stream",
     "text": [
      "Enter First Number 26.449\n",
      "Enter Second Number 22.36\n"
     ]
    },
    {
     "name": "stdout",
     "output_type": "stream",
     "text": [
      "a is greater than b\n"
     ]
    }
   ],
   "source": [
    "a = float(input(\"Enter First Number\"))\n",
    "b = float(input(\"Enter Second Number\"))\n",
    "if b>a:\n",
    "    print(\"b is greater than a\")\n",
    "elif a==b:\n",
    "    print(\"a is equal to b\")\n",
    "else:\n",
    "    print(\"a is greater than b\")"
   ]
  },
  {
   "cell_type": "code",
   "execution_count": 26,
   "id": "9424740e-bcc2-4375-8532-04b946412801",
   "metadata": {},
   "outputs": [
    {
     "name": "stdin",
     "output_type": "stream",
     "text": [
      "Enter First Number 13.0\n",
      "Enter Second Number 13.0\n"
     ]
    },
    {
     "name": "stdout",
     "output_type": "stream",
     "text": [
      "a is equal to b\n"
     ]
    }
   ],
   "source": [
    "a = float(input(\"Enter First Number\"))\n",
    "b = float(input(\"Enter Second Number\"))\n",
    "if b>a:\n",
    "    print(\"b is greater than a\")\n",
    "elif a==b:\n",
    "    print(\"a is equal to b\")\n",
    "else:\n",
    "    print(\"a is greater than b\")"
   ]
  },
  {
   "cell_type": "code",
   "execution_count": 53,
   "id": "447ad610-324a-4fbd-89e2-4e0a47d002d5",
   "metadata": {},
   "outputs": [
    {
     "name": "stdin",
     "output_type": "stream",
     "text": [
      "Enter Marks: 68\n"
     ]
    },
    {
     "name": "stdout",
     "output_type": "stream",
     "text": [
      "B-\n"
     ]
    }
   ],
   "source": [
    "a = int(input(\"Enter Marks:\"))\n",
    "if a >= 85:\n",
    "    print(\"A\")\n",
    "elif a >= 75 and a <85:\n",
    "    print(\"B+\")\n",
    "elif a >= 70 and a < 75:\n",
    "    print(\"B\")\n",
    "elif a >= 60 and a < 70:\n",
    "    print(\"B-\")\n",
    "else:\n",
    "    print(\"C\")"
   ]
  },
  {
   "cell_type": "code",
   "execution_count": 55,
   "id": "c6b57e7e-b48c-4be0-92bc-2ca9ec092889",
   "metadata": {},
   "outputs": [
    {
     "name": "stdin",
     "output_type": "stream",
     "text": [
      "Enter First Number 14.25\n",
      "Enter Second Number 25.36\n"
     ]
    },
    {
     "name": "stdout",
     "output_type": "stream",
     "text": [
      "b is greater than a\n"
     ]
    }
   ],
   "source": [
    "a = float(input(\"Enter First Number\"))\n",
    "b = float(input(\"Enter Second Number\"))\n",
    "if a>b:\n",
    "    print(\"a is greater than b\")\n",
    "elif a==b:\n",
    "    print(\"a is equal to b\")\n",
    "else:\n",
    "    print(\"b is greater than a\")"
   ]
  },
  {
   "cell_type": "code",
   "execution_count": 56,
   "id": "a4408302-fcfd-412f-9d6a-f46277887435",
   "metadata": {},
   "outputs": [
    {
     "name": "stdin",
     "output_type": "stream",
     "text": [
      "Enter First Number 12.36\n",
      "Enter Second Number 12.36\n"
     ]
    },
    {
     "name": "stdout",
     "output_type": "stream",
     "text": [
      "a is equal to b\n"
     ]
    }
   ],
   "source": [
    "a = float(input(\"Enter First Number\"))\n",
    "b = float(input(\"Enter Second Number\"))\n",
    "if a>b:\n",
    "    print(\"a is greater than b\")\n",
    "elif a==b:\n",
    "    print(\"a is equal to b\")\n",
    "else:\n",
    "    print(\"b is greater than a\")"
   ]
  },
  {
   "cell_type": "code",
   "execution_count": 57,
   "id": "fccc9841-7e6c-4e2f-87df-1584d22628e0",
   "metadata": {},
   "outputs": [
    {
     "name": "stdin",
     "output_type": "stream",
     "text": [
      "Enter First Number 14.36\n",
      "Enter Second Number 36.14\n"
     ]
    },
    {
     "name": "stdout",
     "output_type": "stream",
     "text": [
      "b is greater than a\n"
     ]
    }
   ],
   "source": [
    "a = float(input(\"Enter First Number\"))\n",
    "b = float(input(\"Enter Second Number\"))\n",
    "if a>b:\n",
    "    print(\"a is greater than b\")\n",
    "elif a==b:\n",
    "    print(\"a is equal to b\")\n",
    "else:\n",
    "    print(\"b is greater than a\")"
   ]
  },
  {
   "cell_type": "code",
   "execution_count": 66,
   "id": "39b4bcd8-803f-47ce-82fe-11dcb6555c02",
   "metadata": {},
   "outputs": [
    {
     "name": "stdin",
     "output_type": "stream",
     "text": [
      "Enter Your Numbers 71.25\n"
     ]
    },
    {
     "name": "stdout",
     "output_type": "stream",
     "text": [
      "B-\n"
     ]
    }
   ],
   "source": [
    "a = float(input(\"Enter Your Numbers\"))\n",
    "if a >= 85:\n",
    "    print(\"A+\")\n",
    "elif a >= 80 and a < 85:\n",
    "    print(\"A\")\n",
    "elif a >= 75 and a < 80:\n",
    "    print(\"B\")\n",
    "elif a >= 70 and a < 75:\n",
    "    print(\"B-\")\n",
    "elif a >= 60 and a < 70:\n",
    "    print(\"C+\")\n",
    "elif a >= 45 and a < 60:\n",
    "    print(\"C-\")\n",
    "else:\n",
    "    print(\"F\")"
   ]
  },
  {
   "cell_type": "markdown",
   "id": "d8d3783e-67f5-4130-b788-49e8d68df535",
   "metadata": {},
   "source": [
    "# NETSTED IF Condition"
   ]
  },
  {
   "cell_type": "code",
   "execution_count": 75,
   "id": "0bc02d8d-b8bd-4869-811c-891c251821ae",
   "metadata": {},
   "outputs": [
    {
     "name": "stdin",
     "output_type": "stream",
     "text": [
      "Enter Your Number:  11\n"
     ]
    },
    {
     "name": "stdout",
     "output_type": "stream",
     "text": [
      "a is greater than 10\n",
      "a is not greater to 20\n"
     ]
    }
   ],
   "source": [
    "a = int(input(\"Enter Your Number: \"))\n",
    "if a > 10:\n",
    "    print(\"a is greater than 10\")\n",
    "    if a > 20:\n",
    "        print(\"a is greater than 20\")\n",
    "    else:\n",
    "        print(\"a is not greater to 20\")"
   ]
  },
  {
   "cell_type": "code",
   "execution_count": 81,
   "id": "9ae07633-2a3d-4089-bfe8-903363a3c9f3",
   "metadata": {},
   "outputs": [
    {
     "name": "stdin",
     "output_type": "stream",
     "text": [
      "Enter Number 22\n"
     ]
    },
    {
     "name": "stdout",
     "output_type": "stream",
     "text": [
      ">10\n",
      "inside first if\n",
      ">20\n",
      "inside nested if\n",
      "<30\n",
      "inside else of nested if of nested if\n",
      "outside if\n"
     ]
    }
   ],
   "source": [
    "a = int(input(\"Enter Number\"))\n",
    "if a > 10:\n",
    "    print(\">10\")\n",
    "    print(\"inside first if\")\n",
    "    if a > 20:\n",
    "        print(\">20\")\n",
    "        print(\"inside nested if\")\n",
    "        if a > 30:\n",
    "            print(\">30\")\n",
    "            print(\"inside nested if of nested if\")\n",
    "        else:\n",
    "            print(\"<30\")\n",
    "            print(\"inside else of nested if of nested if\")\n",
    "    else:\n",
    "        print(\"<10\")\n",
    "        print(\"else part\")\n",
    "print(\"outside if\")"
   ]
  },
  {
   "cell_type": "markdown",
   "id": "f065dca2-cf65-4940-9a28-8dd966fa13cb",
   "metadata": {},
   "source": [
    "# PROJECT ON CONDITIONS\n",
    "# (if, elseif, else, nested if)"
   ]
  },
  {
   "cell_type": "code",
   "execution_count": 87,
   "id": "f0456fe8-0f64-4af6-b199-299939ac96c9",
   "metadata": {},
   "outputs": [
    {
     "name": "stdin",
     "output_type": "stream",
     "text": [
      "Enter a Real Number :  238.112\n"
     ]
    },
    {
     "name": "stdout",
     "output_type": "stream",
     "text": [
      "238\n",
      "intPortion is Even Number\n"
     ]
    }
   ],
   "source": [
    "\"\"\"\n",
    "Q ---> User will enter a floating number lets say 238.915. Your task is to find \n",
    "the integer number before decimal point in this case (238) and \n",
    "then check if that integer is an even number or not?\n",
    "\"\"\"\n",
    "\n",
    "x = float(input(\"Enter a Real Number : \"))\n",
    "y = round(x)\n",
    "if y > x:\n",
    "    intPortion = y-1\n",
    "else:\n",
    "    intPortion = y\n",
    "print(intPortion)\n",
    "if intPortion %2 == 0:\n",
    "    print(\"intPortion is Even Number\")\n",
    "else:\n",
    "    print(\"intPortion is Odd Number\")"
   ]
  },
  {
   "cell_type": "code",
   "execution_count": null,
   "id": "cde96b1a-5cc7-417e-aece-6745b3d09249",
   "metadata": {},
   "outputs": [],
   "source": []
  }
 ],
 "metadata": {
  "kernelspec": {
   "display_name": "Python 3 (ipykernel)",
   "language": "python",
   "name": "python3"
  },
  "language_info": {
   "codemirror_mode": {
    "name": "ipython",
    "version": 3
   },
   "file_extension": ".py",
   "mimetype": "text/x-python",
   "name": "python",
   "nbconvert_exporter": "python",
   "pygments_lexer": "ipython3",
   "version": "3.13.5"
  }
 },
 "nbformat": 4,
 "nbformat_minor": 5
}
