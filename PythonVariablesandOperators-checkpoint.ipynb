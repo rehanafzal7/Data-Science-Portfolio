{
 "cells": [
  {
   "cell_type": "markdown",
   "id": "4a8dee94-270e-49e4-b375-e374bd4b7a6c",
   "metadata": {},
   "source": [
    "# VARIABLES"
   ]
  },
  {
   "cell_type": "code",
   "execution_count": 1,
   "id": "5b4ea243-5a26-4a52-a4b4-63558bd978a1",
   "metadata": {},
   "outputs": [],
   "source": [
    "x = 3"
   ]
  },
  {
   "cell_type": "code",
   "execution_count": 2,
   "id": "4cd12f9a-b173-46e8-9d9b-f9a9ad49b5d4",
   "metadata": {},
   "outputs": [
    {
     "name": "stdout",
     "output_type": "stream",
     "text": [
      "Variable   Type    Data/Info\n",
      "----------------------------\n",
      "x          int     3\n"
     ]
    }
   ],
   "source": [
    "%whos"
   ]
  },
  {
   "cell_type": "code",
   "execution_count": 3,
   "id": "a1c03990-074c-4d28-ac3e-e8a97c4e7230",
   "metadata": {},
   "outputs": [
    {
     "name": "stdout",
     "output_type": "stream",
     "text": [
      "<class 'int'>\n"
     ]
    }
   ],
   "source": [
    "print(type(x))"
   ]
  },
  {
   "cell_type": "code",
   "execution_count": 4,
   "id": "e44fb29c-66aa-41f4-8e06-c11d0101e205",
   "metadata": {},
   "outputs": [],
   "source": [
    "x = 5.7"
   ]
  },
  {
   "cell_type": "code",
   "execution_count": 5,
   "id": "34224800-cf81-46f7-aeb4-620c1474f1bc",
   "metadata": {},
   "outputs": [
    {
     "name": "stdout",
     "output_type": "stream",
     "text": [
      "Variable   Type     Data/Info\n",
      "-----------------------------\n",
      "x          float    5.7\n"
     ]
    }
   ],
   "source": [
    "%whos"
   ]
  },
  {
   "cell_type": "code",
   "execution_count": 6,
   "id": "001e81aa-42f0-41af-950b-fbaaa9f57269",
   "metadata": {},
   "outputs": [
    {
     "name": "stdout",
     "output_type": "stream",
     "text": [
      "<class 'float'>\n"
     ]
    }
   ],
   "source": [
    "print(type(x))"
   ]
  },
  {
   "cell_type": "code",
   "execution_count": 7,
   "id": "6ba81d60-a6eb-43a4-a31e-8de12860e06c",
   "metadata": {},
   "outputs": [],
   "source": [
    "abcd = 556.887"
   ]
  },
  {
   "cell_type": "code",
   "execution_count": 8,
   "id": "8f8e2bd0-238e-484b-97cf-32f04a61f888",
   "metadata": {},
   "outputs": [
    {
     "name": "stdout",
     "output_type": "stream",
     "text": [
      "Variable   Type     Data/Info\n",
      "-----------------------------\n",
      "abcd       float    556.887\n",
      "x          float    5.7\n"
     ]
    }
   ],
   "source": [
    "%whos"
   ]
  },
  {
   "cell_type": "code",
   "execution_count": 9,
   "id": "5d7325ab-b610-4845-a4f1-fe7fc7163793",
   "metadata": {},
   "outputs": [],
   "source": [
    "a, b, c, d, g = 0, 5, 1.3, 88.4469, 73"
   ]
  },
  {
   "cell_type": "code",
   "execution_count": 10,
   "id": "c77a2d33-6771-46fb-83e7-4b6e8e491a0c",
   "metadata": {},
   "outputs": [
    {
     "name": "stdout",
     "output_type": "stream",
     "text": [
      "Variable   Type     Data/Info\n",
      "-----------------------------\n",
      "a          int      0\n",
      "abcd       float    556.887\n",
      "b          int      5\n",
      "c          float    1.3\n",
      "d          float    88.4469\n",
      "g          int      73\n",
      "x          float    5.7\n"
     ]
    }
   ],
   "source": [
    "%whos"
   ]
  },
  {
   "cell_type": "code",
   "execution_count": 11,
   "id": "9d8120ed-fa2e-4fb2-bb10-936b01b54675",
   "metadata": {},
   "outputs": [],
   "source": [
    "del abcd"
   ]
  },
  {
   "cell_type": "code",
   "execution_count": 12,
   "id": "b9ab463d-db2f-423b-bfb0-7b28a29e0ffc",
   "metadata": {},
   "outputs": [
    {
     "name": "stdout",
     "output_type": "stream",
     "text": [
      "Variable   Type     Data/Info\n",
      "-----------------------------\n",
      "a          int      0\n",
      "b          int      5\n",
      "c          float    1.3\n",
      "d          float    88.4469\n",
      "g          int      73\n",
      "x          float    5.7\n"
     ]
    }
   ],
   "source": [
    "%whos"
   ]
  },
  {
   "cell_type": "code",
   "execution_count": 3,
   "id": "92831ba3-b414-45e1-adfc-d492b417b7c9",
   "metadata": {},
   "outputs": [
    {
     "name": "stdout",
     "output_type": "stream",
     "text": [
      "abcd\n"
     ]
    }
   ],
   "source": [
    "print(\"abcd\")"
   ]
  },
  {
   "cell_type": "code",
   "execution_count": 14,
   "id": "eafcdb15-550b-4747-aa2f-a5428e3e3895",
   "metadata": {},
   "outputs": [],
   "source": [
    "c=2+4j"
   ]
  },
  {
   "cell_type": "code",
   "execution_count": 15,
   "id": "d8211c81-9296-4d23-b953-964ada2f6f89",
   "metadata": {},
   "outputs": [
    {
     "name": "stdout",
     "output_type": "stream",
     "text": [
      "<class 'complex'>\n"
     ]
    }
   ],
   "source": [
    "print(type(c))"
   ]
  },
  {
   "cell_type": "code",
   "execution_count": 16,
   "id": "f73f859a-d7f0-48f3-b35d-4329bd238ca1",
   "metadata": {},
   "outputs": [
    {
     "name": "stdout",
     "output_type": "stream",
     "text": [
      "Variable   Type       Data/Info\n",
      "-------------------------------\n",
      "a          int        0\n",
      "b          int        5\n",
      "c          complex    (2+4j)\n",
      "d          float      88.4469\n",
      "g          int        73\n",
      "x          float      5.7\n"
     ]
    }
   ],
   "source": [
    "%whos"
   ]
  },
  {
   "cell_type": "code",
   "execution_count": 17,
   "id": "35c0925a-1a63-4c55-908d-262188e064d0",
   "metadata": {},
   "outputs": [],
   "source": [
    "s=\"hello how are you?\""
   ]
  },
  {
   "cell_type": "code",
   "execution_count": 18,
   "id": "2ab0da93-44cd-46b4-9330-66162ca50197",
   "metadata": {},
   "outputs": [
    {
     "name": "stdout",
     "output_type": "stream",
     "text": [
      "<class 'str'>\n"
     ]
    }
   ],
   "source": [
    "print(type(s))"
   ]
  },
  {
   "cell_type": "code",
   "execution_count": 19,
   "id": "21f92eb2-4f94-49d7-b3e3-e40f79105083",
   "metadata": {},
   "outputs": [
    {
     "name": "stdout",
     "output_type": "stream",
     "text": [
      "Variable   Type       Data/Info\n",
      "-------------------------------\n",
      "a          int        0\n",
      "b          int        5\n",
      "c          complex    (2+4j)\n",
      "d          float      88.4469\n",
      "g          int        73\n",
      "s          str        hello how are you?\n",
      "x          float      5.7\n"
     ]
    }
   ],
   "source": [
    "%whos"
   ]
  },
  {
   "cell_type": "markdown",
   "id": "28257280-0939-415d-a861-36563e0a4d85",
   "metadata": {},
   "source": [
    "# OPERATORS"
   ]
  },
  {
   "cell_type": "code",
   "execution_count": 20,
   "id": "9e7f52cb-72d4-45f0-b317-6f953ea44121",
   "metadata": {},
   "outputs": [],
   "source": [
    "SumOfaAndb = a + b"
   ]
  },
  {
   "cell_type": "code",
   "execution_count": 21,
   "id": "d87664f7-5d20-4453-b178-7079b1d0a6ff",
   "metadata": {},
   "outputs": [
    {
     "name": "stdout",
     "output_type": "stream",
     "text": [
      "5\n"
     ]
    }
   ],
   "source": [
    "print(SumOfaAndb)"
   ]
  },
  {
   "cell_type": "code",
   "execution_count": 23,
   "id": "eaf8ebf2-9aca-40d0-bcae-89d577e8ae8a",
   "metadata": {},
   "outputs": [
    {
     "data": {
      "text/plain": [
       "int"
      ]
     },
     "execution_count": 23,
     "metadata": {},
     "output_type": "execute_result"
    }
   ],
   "source": [
    "type(SumOfaAndb)"
   ]
  },
  {
   "cell_type": "code",
   "execution_count": 24,
   "id": "0ab2fff0-2273-4198-a360-0a98c46a2486",
   "metadata": {},
   "outputs": [
    {
     "data": {
      "text/plain": [
       "float"
      ]
     },
     "execution_count": 24,
     "metadata": {},
     "output_type": "execute_result"
    }
   ],
   "source": [
    "type(b+d)"
   ]
  },
  {
   "cell_type": "code",
   "execution_count": 26,
   "id": "e66910ba-242e-4037-8ff6-6952428a1986",
   "metadata": {},
   "outputs": [],
   "source": [
    "v = ((b+d)**3)/4"
   ]
  },
  {
   "cell_type": "code",
   "execution_count": 27,
   "id": "6ee4b80c-28dc-47d0-adfc-42a9fb4e87d3",
   "metadata": {},
   "outputs": [
    {
     "name": "stdout",
     "output_type": "stream",
     "text": [
      "204002.1313314709\n"
     ]
    }
   ],
   "source": [
    "print(v)"
   ]
  },
  {
   "cell_type": "code",
   "execution_count": 30,
   "id": "600e5d2e-96fd-49ab-be48-2998af82c9af",
   "metadata": {},
   "outputs": [
    {
     "name": "stdout",
     "output_type": "stream",
     "text": [
      "helloworld\n"
     ]
    }
   ],
   "source": [
    "s1 = \"hello\"\n",
    "s2 = \"world\"\n",
    "s = s1+s2\n",
    "print(s)"
   ]
  },
  {
   "cell_type": "code",
   "execution_count": 31,
   "id": "7913cdd3-819e-46cb-b62f-02505c36f861",
   "metadata": {},
   "outputs": [
    {
     "data": {
      "text/plain": [
       "3"
      ]
     },
     "execution_count": 31,
     "metadata": {},
     "output_type": "execute_result"
    }
   ],
   "source": [
    "10//3"
   ]
  },
  {
   "cell_type": "code",
   "execution_count": 32,
   "id": "f822800f-eb9a-4b09-94d2-1fa9bfd7aedb",
   "metadata": {},
   "outputs": [
    {
     "data": {
      "text/plain": [
       "3.3333333333333335"
      ]
     },
     "execution_count": 32,
     "metadata": {},
     "output_type": "execute_result"
    }
   ],
   "source": [
    "10/3"
   ]
  },
  {
   "cell_type": "code",
   "execution_count": 33,
   "id": "ba2dc9ce-e0ac-4f39-a111-4e6bc6e644e1",
   "metadata": {},
   "outputs": [
    {
     "data": {
      "text/plain": [
       "3.3333333333333335"
      ]
     },
     "execution_count": 33,
     "metadata": {},
     "output_type": "execute_result"
    }
   ],
   "source": [
    "_"
   ]
  },
  {
   "cell_type": "code",
   "execution_count": 34,
   "id": "3b776a1f-de57-4453-adb9-2ff24dfe6b90",
   "metadata": {},
   "outputs": [],
   "source": [
    "startingTimeofTheCourse = 2.0"
   ]
  },
  {
   "cell_type": "code",
   "execution_count": 35,
   "id": "38b2a8bb-2deb-4d08-8f1d-01d45bac358f",
   "metadata": {},
   "outputs": [
    {
     "data": {
      "text/plain": [
       "float"
      ]
     },
     "execution_count": 35,
     "metadata": {},
     "output_type": "execute_result"
    }
   ],
   "source": [
    "type(startingTimeofTheCourse)"
   ]
  },
  {
   "cell_type": "code",
   "execution_count": 36,
   "id": "64957bf8-8fb9-4c2c-9862-754a21ddb9a9",
   "metadata": {},
   "outputs": [
    {
     "name": "stdout",
     "output_type": "stream",
     "text": [
      "Variable                  Type       Data/Info\n",
      "----------------------------------------------\n",
      "SumOfaAndb                int        5\n",
      "a                         int        0\n",
      "b                         int        5\n",
      "c                         complex    (2+4j)\n",
      "d                         float      88.4469\n",
      "g                         int        73\n",
      "s                         str        helloworld\n",
      "s1                        str        hello\n",
      "s2                        str        world\n",
      "startingTimeofTheCourse   float      2.0\n",
      "v                         float      204002.1313314709\n",
      "x                         float      5.7\n"
     ]
    }
   ],
   "source": [
    "%whos"
   ]
  },
  {
   "cell_type": "markdown",
   "id": "d01c8a83-d738-4dbd-8579-90daa1d51d40",
   "metadata": {},
   "source": [
    "# Type Bool and Comparisons"
   ]
  },
  {
   "cell_type": "code",
   "execution_count": 37,
   "id": "127bd0d4-dbad-4714-b0fe-0d4adf2045c7",
   "metadata": {},
   "outputs": [],
   "source": [
    "a = True\n",
    "b = True\n",
    "c = False"
   ]
  },
  {
   "cell_type": "code",
   "execution_count": 38,
   "id": "ca308ab4-a292-4f5f-b911-bcc056dca546",
   "metadata": {},
   "outputs": [
    {
     "name": "stdout",
     "output_type": "stream",
     "text": [
      "Variable                  Type     Data/Info\n",
      "--------------------------------------------\n",
      "SumOfaAndb                int      5\n",
      "a                         bool     True\n",
      "b                         bool     True\n",
      "c                         bool     False\n",
      "d                         float    88.4469\n",
      "g                         int      73\n",
      "s                         str      helloworld\n",
      "s1                        str      hello\n",
      "s2                        str      world\n",
      "startingTimeofTheCourse   float    2.0\n",
      "v                         float    204002.1313314709\n",
      "x                         float    5.7\n"
     ]
    }
   ],
   "source": [
    "%whos"
   ]
  },
  {
   "cell_type": "code",
   "execution_count": 39,
   "id": "0e1f81d8-3c38-43b3-b13b-43ec938ad162",
   "metadata": {},
   "outputs": [
    {
     "name": "stdout",
     "output_type": "stream",
     "text": [
      "True\n",
      "False\n",
      "False\n"
     ]
    }
   ],
   "source": [
    "print(a and b)   #and = if both are True then True otherwise False\n",
    "print(a and c)\n",
    "print(c and a)"
   ]
  },
  {
   "cell_type": "code",
   "execution_count": 40,
   "id": "6357b271-9d29-426b-9efe-12dfbdc34e4d",
   "metadata": {},
   "outputs": [
    {
     "name": "stdout",
     "output_type": "stream",
     "text": [
      "True\n"
     ]
    }
   ],
   "source": [
    "d = a or c  #or= if both are False then False otherwise True\n",
    "print(d)"
   ]
  },
  {
   "cell_type": "code",
   "execution_count": 41,
   "id": "64b3d389-bf46-41e5-bff0-384510a5f07a",
   "metadata": {},
   "outputs": [
    {
     "data": {
      "text/plain": [
       "False"
      ]
     },
     "execution_count": 41,
     "metadata": {},
     "output_type": "execute_result"
    }
   ],
   "source": [
    "not(a)   #not= not True-> False,  not False-> True"
   ]
  },
  {
   "cell_type": "code",
   "execution_count": 42,
   "id": "e9baca5a-d605-4988-95df-dc928cd6f5e7",
   "metadata": {},
   "outputs": [
    {
     "data": {
      "text/plain": [
       "True"
      ]
     },
     "execution_count": 42,
     "metadata": {},
     "output_type": "execute_result"
    }
   ],
   "source": [
    "not(c)"
   ]
  },
  {
   "cell_type": "code",
   "execution_count": 43,
   "id": "395e4f39-fac7-454b-a499-43d0cc653ded",
   "metadata": {},
   "outputs": [],
   "source": [
    "t = not(d)"
   ]
  },
  {
   "cell_type": "code",
   "execution_count": 44,
   "id": "d9e187a9-fb6a-456a-97b9-b3ebb2ba9160",
   "metadata": {},
   "outputs": [
    {
     "data": {
      "text/plain": [
       "bool"
      ]
     },
     "execution_count": 44,
     "metadata": {},
     "output_type": "execute_result"
    }
   ],
   "source": [
    "type(t)"
   ]
  },
  {
   "cell_type": "code",
   "execution_count": 45,
   "id": "8cf1bde4-7639-4077-ba50-311e2fb1e53e",
   "metadata": {},
   "outputs": [
    {
     "name": "stdout",
     "output_type": "stream",
     "text": [
      "False\n"
     ]
    }
   ],
   "source": [
    "print(t)"
   ]
  },
  {
   "cell_type": "code",
   "execution_count": 46,
   "id": "ab705a69-045e-49b4-a15d-7591efeb0ae5",
   "metadata": {},
   "outputs": [
    {
     "data": {
      "text/plain": [
       "False"
      ]
     },
     "execution_count": 46,
     "metadata": {},
     "output_type": "execute_result"
    }
   ],
   "source": [
    "not((a and b) or (c or d))"
   ]
  },
  {
   "cell_type": "code",
   "execution_count": 47,
   "id": "69a044cf-9c14-45d5-96a5-80423c40d5e0",
   "metadata": {},
   "outputs": [
    {
     "name": "stdout",
     "output_type": "stream",
     "text": [
      "Variable                  Type     Data/Info\n",
      "--------------------------------------------\n",
      "SumOfaAndb                int      5\n",
      "a                         bool     True\n",
      "b                         bool     True\n",
      "c                         bool     False\n",
      "d                         bool     True\n",
      "g                         int      73\n",
      "s                         str      helloworld\n",
      "s1                        str      hello\n",
      "s2                        str      world\n",
      "startingTimeofTheCourse   float    2.0\n",
      "t                         bool     False\n",
      "v                         float    204002.1313314709\n",
      "x                         float    5.7\n"
     ]
    }
   ],
   "source": [
    "%whos"
   ]
  },
  {
   "cell_type": "markdown",
   "id": "cc3ce0ca-c082-4977-b907-79b133cd751f",
   "metadata": {},
   "source": [
    "# Comparisons"
   ]
  },
  {
   "cell_type": "code",
   "execution_count": 48,
   "id": "df1e60e3-dcbb-4f30-921f-d407b22c0041",
   "metadata": {},
   "outputs": [
    {
     "name": "stdout",
     "output_type": "stream",
     "text": [
      "True\n"
     ]
    }
   ],
   "source": [
    "print(2<3)"
   ]
  },
  {
   "cell_type": "code",
   "execution_count": 49,
   "id": "65f186f2-5457-4409-ab44-821b729d1ec7",
   "metadata": {},
   "outputs": [
    {
     "name": "stdout",
     "output_type": "stream",
     "text": [
      "<class 'bool'>\n",
      "True\n"
     ]
    }
   ],
   "source": [
    "c = 2<3\n",
    "print(type(c))\n",
    "print(c)"
   ]
  },
  {
   "cell_type": "code",
   "execution_count": 50,
   "id": "27b5e92f-1d32-42f7-89c3-ca0484ff3812",
   "metadata": {},
   "outputs": [
    {
     "name": "stdout",
     "output_type": "stream",
     "text": [
      "<class 'bool'>\n",
      "False\n"
     ]
    }
   ],
   "source": [
    "d = 3==4\n",
    "print(type(d))\n",
    "print(d)"
   ]
  },
  {
   "cell_type": "code",
   "execution_count": 51,
   "id": "f31cdaba-25ae-48c1-b500-66537db8ad5b",
   "metadata": {},
   "outputs": [
    {
     "name": "stdout",
     "output_type": "stream",
     "text": [
      "<class 'bool'>\n",
      "True\n"
     ]
    }
   ],
   "source": [
    "b = 3==3.0\n",
    "print(type(b))\n",
    "print(b)"
   ]
  },
  {
   "cell_type": "code",
   "execution_count": 52,
   "id": "e1682f8d-a23d-4c17-bc8f-f6b2262cd252",
   "metadata": {},
   "outputs": [],
   "source": [
    "x = 4\n",
    "y = 9\n",
    "z = 8.3\n",
    "r = -3"
   ]
  },
  {
   "cell_type": "code",
   "execution_count": 53,
   "id": "4214f56e-13a7-4ec9-a28d-92eaead96fba",
   "metadata": {},
   "outputs": [
    {
     "data": {
      "text/plain": [
       "True"
      ]
     },
     "execution_count": 53,
     "metadata": {},
     "output_type": "execute_result"
    }
   ],
   "source": [
    "(x<y) and (z<y) or (r==x)"
   ]
  },
  {
   "cell_type": "code",
   "execution_count": 54,
   "id": "e456a9a0-9b5e-4161-a954-82daac61ceec",
   "metadata": {},
   "outputs": [
    {
     "data": {
      "text/plain": [
       "True"
      ]
     },
     "execution_count": 54,
     "metadata": {},
     "output_type": "execute_result"
    }
   ],
   "source": [
    "(x < y) and (r == x) or (z < y)"
   ]
  },
  {
   "cell_type": "code",
   "execution_count": 55,
   "id": "c471b40b-ce14-4c23-bd94-ff6dff7a6daa",
   "metadata": {},
   "outputs": [
    {
     "data": {
      "text/plain": [
       "True"
      ]
     },
     "execution_count": 55,
     "metadata": {},
     "output_type": "execute_result"
    }
   ],
   "source": [
    "(r == x) and (x < y) or (z < y)"
   ]
  },
  {
   "cell_type": "code",
   "execution_count": 56,
   "id": "f5ce629b-56de-4dc5-b99a-7d3c193282b3",
   "metadata": {},
   "outputs": [
    {
     "data": {
      "text/plain": [
       "True"
      ]
     },
     "execution_count": 56,
     "metadata": {},
     "output_type": "execute_result"
    }
   ],
   "source": [
    "(r == x) or (x < y) and (z < y)"
   ]
  },
  {
   "cell_type": "code",
   "execution_count": 57,
   "id": "8008300e-7723-40dc-9bda-0f57333d4e66",
   "metadata": {},
   "outputs": [
    {
     "name": "stdout",
     "output_type": "stream",
     "text": [
      "False\n"
     ]
    }
   ],
   "source": [
    "print((not (2!=3) and True) or ( False and True))"
   ]
  },
  {
   "cell_type": "code",
   "execution_count": null,
   "id": "15e763f7-a161-42ff-bf0a-555d958fdfc8",
   "metadata": {},
   "outputs": [],
   "source": []
  }
 ],
 "metadata": {
  "kernelspec": {
   "display_name": "Python 3 (ipykernel)",
   "language": "python",
   "name": "python3"
  },
  "language_info": {
   "codemirror_mode": {
    "name": "ipython",
    "version": 3
   },
   "file_extension": ".py",
   "mimetype": "text/x-python",
   "name": "python",
   "nbconvert_exporter": "python",
   "pygments_lexer": "ipython3",
   "version": "3.13.5"
  }
 },
 "nbformat": 4,
 "nbformat_minor": 5
}
